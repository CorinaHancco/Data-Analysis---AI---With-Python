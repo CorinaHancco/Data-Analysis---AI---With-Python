{
 "cells": [
  {
   "cell_type": "code",
   "execution_count": null,
   "id": "ada8c812",
   "metadata": {},
   "outputs": [],
   "source": [
    "# Buscar los datos de la accion automaticamente\n",
    "\n",
    "# pip install yfinance\n",
    "# pip install matplotlib\n",
    "\n",
    "import yfinance"
   ]
  },
  {
   "cell_type": "code",
   "execution_count": null,
   "id": "858ad3c4",
   "metadata": {},
   "outputs": [
    {
     "data": {
      "text/html": [
       "<div>\n",
       "<style scoped>\n",
       "    .dataframe tbody tr th:only-of-type {\n",
       "        vertical-align: middle;\n",
       "    }\n",
       "\n",
       "    .dataframe tbody tr th {\n",
       "        vertical-align: top;\n",
       "    }\n",
       "\n",
       "    .dataframe thead th {\n",
       "        text-align: right;\n",
       "    }\n",
       "</style>\n",
       "<table border=\"1\" class=\"dataframe\">\n",
       "  <thead>\n",
       "    <tr style=\"text-align: right;\">\n",
       "      <th></th>\n",
       "      <th>Open</th>\n",
       "      <th>High</th>\n",
       "      <th>Low</th>\n",
       "      <th>Close</th>\n",
       "      <th>Volume</th>\n",
       "      <th>Dividends</th>\n",
       "      <th>Stock Splits</th>\n",
       "    </tr>\n",
       "    <tr>\n",
       "      <th>Date</th>\n",
       "      <th></th>\n",
       "      <th></th>\n",
       "      <th></th>\n",
       "      <th></th>\n",
       "      <th></th>\n",
       "      <th></th>\n",
       "      <th></th>\n",
       "    </tr>\n",
       "  </thead>\n",
       "  <tbody>\n",
       "    <tr>\n",
       "      <th>2024-11-20 00:00:00-05:00</th>\n",
       "      <td>227.511173</td>\n",
       "      <td>229.376668</td>\n",
       "      <td>225.346397</td>\n",
       "      <td>228.448914</td>\n",
       "      <td>35169600</td>\n",
       "      <td>0.0</td>\n",
       "      <td>0.0</td>\n",
       "    </tr>\n",
       "    <tr>\n",
       "      <th>2024-11-21 00:00:00-05:00</th>\n",
       "      <td>228.329212</td>\n",
       "      <td>229.606130</td>\n",
       "      <td>225.166842</td>\n",
       "      <td>227.970078</td>\n",
       "      <td>42108300</td>\n",
       "      <td>0.0</td>\n",
       "      <td>0.0</td>\n",
       "    </tr>\n",
       "    <tr>\n",
       "      <th>2024-11-22 00:00:00-05:00</th>\n",
       "      <td>227.511176</td>\n",
       "      <td>230.164779</td>\n",
       "      <td>227.511176</td>\n",
       "      <td>229.316818</td>\n",
       "      <td>38168300</td>\n",
       "      <td>0.0</td>\n",
       "      <td>0.0</td>\n",
       "    </tr>\n",
       "    <tr>\n",
       "      <th>2024-11-25 00:00:00-05:00</th>\n",
       "      <td>230.903006</td>\n",
       "      <td>232.688691</td>\n",
       "      <td>229.187143</td>\n",
       "      <td>232.309601</td>\n",
       "      <td>90152800</td>\n",
       "      <td>0.0</td>\n",
       "      <td>0.0</td>\n",
       "    </tr>\n",
       "    <tr>\n",
       "      <th>2024-11-26 00:00:00-05:00</th>\n",
       "      <td>232.768491</td>\n",
       "      <td>235.003106</td>\n",
       "      <td>232.768491</td>\n",
       "      <td>234.494324</td>\n",
       "      <td>45986200</td>\n",
       "      <td>0.0</td>\n",
       "      <td>0.0</td>\n",
       "    </tr>\n",
       "    <tr>\n",
       "      <th>...</th>\n",
       "      <td>...</td>\n",
       "      <td>...</td>\n",
       "      <td>...</td>\n",
       "      <td>...</td>\n",
       "      <td>...</td>\n",
       "      <td>...</td>\n",
       "      <td>...</td>\n",
       "    </tr>\n",
       "    <tr>\n",
       "      <th>2025-05-13 00:00:00-04:00</th>\n",
       "      <td>210.429993</td>\n",
       "      <td>213.399994</td>\n",
       "      <td>209.000000</td>\n",
       "      <td>212.929993</td>\n",
       "      <td>51909300</td>\n",
       "      <td>0.0</td>\n",
       "      <td>0.0</td>\n",
       "    </tr>\n",
       "    <tr>\n",
       "      <th>2025-05-14 00:00:00-04:00</th>\n",
       "      <td>212.429993</td>\n",
       "      <td>213.940002</td>\n",
       "      <td>210.580002</td>\n",
       "      <td>212.330002</td>\n",
       "      <td>49325800</td>\n",
       "      <td>0.0</td>\n",
       "      <td>0.0</td>\n",
       "    </tr>\n",
       "    <tr>\n",
       "      <th>2025-05-15 00:00:00-04:00</th>\n",
       "      <td>210.949997</td>\n",
       "      <td>212.960007</td>\n",
       "      <td>209.539993</td>\n",
       "      <td>211.449997</td>\n",
       "      <td>45029500</td>\n",
       "      <td>0.0</td>\n",
       "      <td>0.0</td>\n",
       "    </tr>\n",
       "    <tr>\n",
       "      <th>2025-05-16 00:00:00-04:00</th>\n",
       "      <td>212.360001</td>\n",
       "      <td>212.570007</td>\n",
       "      <td>209.770004</td>\n",
       "      <td>211.259995</td>\n",
       "      <td>53659100</td>\n",
       "      <td>0.0</td>\n",
       "      <td>0.0</td>\n",
       "    </tr>\n",
       "    <tr>\n",
       "      <th>2025-05-19 00:00:00-04:00</th>\n",
       "      <td>208.024994</td>\n",
       "      <td>209.479996</td>\n",
       "      <td>204.259995</td>\n",
       "      <td>208.779999</td>\n",
       "      <td>41862238</td>\n",
       "      <td>0.0</td>\n",
       "      <td>0.0</td>\n",
       "    </tr>\n",
       "  </tbody>\n",
       "</table>\n",
       "<p>122 rows × 7 columns</p>\n",
       "</div>"
      ],
      "text/plain": [
       "                                 Open        High         Low       Close  \\\n",
       "Date                                                                        \n",
       "2024-11-20 00:00:00-05:00  227.511173  229.376668  225.346397  228.448914   \n",
       "2024-11-21 00:00:00-05:00  228.329212  229.606130  225.166842  227.970078   \n",
       "2024-11-22 00:00:00-05:00  227.511176  230.164779  227.511176  229.316818   \n",
       "2024-11-25 00:00:00-05:00  230.903006  232.688691  229.187143  232.309601   \n",
       "2024-11-26 00:00:00-05:00  232.768491  235.003106  232.768491  234.494324   \n",
       "...                               ...         ...         ...         ...   \n",
       "2025-05-13 00:00:00-04:00  210.429993  213.399994  209.000000  212.929993   \n",
       "2025-05-14 00:00:00-04:00  212.429993  213.940002  210.580002  212.330002   \n",
       "2025-05-15 00:00:00-04:00  210.949997  212.960007  209.539993  211.449997   \n",
       "2025-05-16 00:00:00-04:00  212.360001  212.570007  209.770004  211.259995   \n",
       "2025-05-19 00:00:00-04:00  208.024994  209.479996  204.259995  208.779999   \n",
       "\n",
       "                             Volume  Dividends  Stock Splits  \n",
       "Date                                                          \n",
       "2024-11-20 00:00:00-05:00  35169600        0.0           0.0  \n",
       "2024-11-21 00:00:00-05:00  42108300        0.0           0.0  \n",
       "2024-11-22 00:00:00-05:00  38168300        0.0           0.0  \n",
       "2024-11-25 00:00:00-05:00  90152800        0.0           0.0  \n",
       "2024-11-26 00:00:00-05:00  45986200        0.0           0.0  \n",
       "...                             ...        ...           ...  \n",
       "2025-05-13 00:00:00-04:00  51909300        0.0           0.0  \n",
       "2025-05-14 00:00:00-04:00  49325800        0.0           0.0  \n",
       "2025-05-15 00:00:00-04:00  45029500        0.0           0.0  \n",
       "2025-05-16 00:00:00-04:00  53659100        0.0           0.0  \n",
       "2025-05-19 00:00:00-04:00  41862238        0.0           0.0  \n",
       "\n",
       "[122 rows x 7 columns]"
      ]
     },
     "execution_count": 2,
     "metadata": {},
     "output_type": "execute_result"
    }
   ],
   "source": [
    "# El Ticker es como el codigo de la empresa que encontramos en la pagina de yahoo finance\n",
    "yfinance.Ticker(\"AAPL\").history(\"6mo\") # De los ultimos 6 meses"
   ]
  },
  {
   "cell_type": "code",
   "execution_count": 6,
   "id": "369370b1",
   "metadata": {},
   "outputs": [
    {
     "data": {
      "text/plain": [
       "<Axes: xlabel='Date'>"
      ]
     },
     "execution_count": 6,
     "metadata": {},
     "output_type": "execute_result"
    },
    {
     "data": {
      "image/png": "[encoded data removed]",
      "text/plain": [
       "<Figure size 640x480 with 1 Axes>"
      ]
     },
     "metadata": {},
     "output_type": "display_data"
    }
   ],
   "source": [
    "data = yfinance.Ticker(\"AAPL\").history(\"6mo\")\n",
    "\n",
    "cierre = data.Close # .nombre de la columna de interes\n",
    "cierre.plot() # Graficamos el dato extraido"
   ]
  },
  {
   "cell_type": "code",
   "execution_count": 31,
   "id": "a5a116d7",
   "metadata": {},
   "outputs": [
    {
     "data": {
      "text/plain": [
       "<Axes: xlabel='Date'>"
      ]
     },
     "execution_count": 31,
     "metadata": {},
     "output_type": "execute_result"
    },
    {
     "data": {
      "image/png": "[encoded data removed]",
      "text/plain": [
       "<Figure size 640x480 with 1 Axes>"
      ]
     },
     "metadata": {},
     "output_type": "display_data"
    }
   ],
   "source": [
    "# Ingresnado manualmente el codigo de la acción\n",
    "ticker = input(\"Digita el codigo de la acción: \")\n",
    "\n",
    "data = yfinance.Ticker(ticker).history(\"6mo\")\n",
    "cierre = data.Close # .nombre de la columna de interes\n",
    "cierre.plot() # Graficamos el dato extraido"
   ]
  },
  {
   "cell_type": "markdown",
   "id": "c49ddfeb",
   "metadata": {},
   "source": [
    "## Creando Analisis de datos extraidos"
   ]
  },
  {
   "cell_type": "code",
   "execution_count": 13,
   "id": "dacefeda",
   "metadata": {},
   "outputs": [
    {
     "data": {
      "text/plain": [
       "np.float64(258.4)"
      ]
     },
     "execution_count": 13,
     "metadata": {},
     "output_type": "execute_result"
    }
   ],
   "source": [
    "round(cierre.max(),2) # Opteniendo el valor maximo del cierre redondeado a 2 decimales"
   ]
  },
  {
   "cell_type": "code",
   "execution_count": 14,
   "id": "682b5fdb",
   "metadata": {},
   "outputs": [
    {
     "data": {
      "text/plain": [
       "np.float64(172.19)"
      ]
     },
     "execution_count": 14,
     "metadata": {},
     "output_type": "execute_result"
    }
   ],
   "source": [
    "round(cierre.min(),2) # Opteniendo el valor minimo del cierre"
   ]
  },
  {
   "cell_type": "code",
   "execution_count": 15,
   "id": "5a162f63",
   "metadata": {},
   "outputs": [
    {
     "data": {
      "text/plain": [
       "np.float64(226.36)"
      ]
     },
     "execution_count": 15,
     "metadata": {},
     "output_type": "execute_result"
    }
   ],
   "source": [
    "round(cierre.mean(),2) # Opteniendo el valor medio del cierre"
   ]
  },
  {
   "cell_type": "code",
   "execution_count": 32,
   "id": "9867c0e3",
   "metadata": {},
   "outputs": [],
   "source": [
    "maximo = round(cierre.max(),2)\n",
    "minimo = round(cierre.min(),2)\n",
    "medio = round(cierre.mean(),2)"
   ]
  },
  {
   "cell_type": "markdown",
   "id": "a51e6417",
   "metadata": {},
   "source": [
    "## Enviar E-mail automaticamente"
   ]
  },
  {
   "cell_type": "code",
   "execution_count": null,
   "id": "d067b46b",
   "metadata": {},
   "outputs": [],
   "source": [
    "# libraries a instalar\n",
    "# pip install pyautogui\n",
    "# pip install pyperclip"
   ]
  },
  {
   "cell_type": "code",
   "execution_count": 33,
   "id": "6fe2bb53",
   "metadata": {},
   "outputs": [],
   "source": [
    "import pyautogui\n",
    "import pyperclip\n",
    "import webbrowser # para abrir el navegador\n",
    "import time"
   ]
  },
  {
   "cell_type": "code",
   "execution_count": null,
   "id": "950f9af0",
   "metadata": {},
   "outputs": [],
   "source": [
    "# Abrir mi correo electronico en el navegador\n",
    "webbrowser.open(\"https://mail.google.com/mail/u/0/#inbox\")\n",
    "\n",
    "time.sleep(3)\n",
    "\n",
    "pyautogui.PAUSE = 3 # Que espere 3 segundos entre cada uno de los comandos a ejecutar\n",
    "\n",
    "pyautogui.click(173,238) # click en esta coordenada x=173, y=238 calculada con pyautogui.position()\n",
    "\n",
    "destinatario = \"hanccovargascorina@gmail.com\"\n",
    "asunto = \"Análisis acciones de los últimos 6 meses\"\n",
    "mensaje = f\"\"\"\n",
    "Hola CORI 😉,\n",
    "Realizo el envio del análisis de las acciones de los ultimo 6 meses de {ticker}:\n",
    "\n",
    "Cotización máxima: USD {maximo}\n",
    "Cotización mínima: USD {minimo}\n",
    "Valor medio: USD {medio}\n",
    "\n",
    "\"\"\"\n",
    "# Copiar el destinatario en portapapeles\n",
    "pyperclip.copy(destinatario)\n",
    "\n",
    "# Copiar lo que hay en porta papeles a donde esta el mouse\n",
    "pyautogui.hotkey(\"ctrl\",\"v\")  # hotkey ejecuta comandos de mi teclado automaticamente\n",
    "pyautogui.hotkey(\"tab\")\n",
    "\n",
    "pyperclip.copy(asunto)\n",
    "pyautogui.hotkey(\"ctrl\",\"v\")\n",
    "pyautogui.hotkey(\"tab\")\n",
    "\n",
    "pyperclip.copy(mensaje)\n",
    "pyautogui.hotkey(\"ctrl\",\"v\")\n",
    "\n",
    "\n",
    "# Enviamos el correo\n",
    "pyautogui.click(1198,969) # x=1198, y=969 Posicion del boton enviar\n",
    "\n",
    "# Cerramos la ventana del navegar abierto\n",
    "pyautogui.hotkey(\"ctrl\",\"f4\")"
   ]
  },
  {
   "cell_type": "code",
   "execution_count": 38,
   "id": "62e6d90c",
   "metadata": {},
   "outputs": [
    {
     "data": {
      "text/plain": [
       "Point(x=1198, y=969)"
      ]
     },
     "execution_count": 38,
     "metadata": {},
     "output_type": "execute_result"
    }
   ],
   "source": [
    "time.sleep(4)\n",
    "\n",
    "pyautogui.position()"
   ]
  },
  {
   "cell_type": "markdown",
   "id": "624872a1",
   "metadata": {},
   "source": []
  }
 ],
 "metadata": {
  "kernelspec": {
   "display_name": "Python 3",
   "language": "python",
   "name": "python3"
  },
  "language_info": {
   "codemirror_mode": {
    "name": "ipython",
    "version": 3
   },
   "file_extension": ".py",
   "mimetype": "text/x-python",
   "name": "python",
   "nbconvert_exporter": "python",
   "pygments_lexer": "ipython3",
   "version": "3.13.0"
  }
 },
 "nbformat": 4,
 "nbformat_minor": 5
}
