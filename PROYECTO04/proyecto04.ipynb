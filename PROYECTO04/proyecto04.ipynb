{
 "cells": [
  {
   "cell_type": "markdown",
   "id": "6b5401a5",
   "metadata": {},
   "source": [
    "## Librerias a instalar\n",
    "* pip install opencv-python\n",
    "* pip install mediapipe\n",
    "* pip install cvzone"
   ]
  },
  {
   "cell_type": "markdown",
   "id": "fa1bf018",
   "metadata": {},
   "source": [
    "## Loop/ciclo \"for\""
   ]
  },
  {
   "cell_type": "code",
   "execution_count": 5,
   "id": "e4addfc7",
   "metadata": {},
   "outputs": [
    {
     "name": "stdout",
     "output_type": "stream",
     "text": [
      "1\n",
      "2\n",
      "3\n",
      "4\n",
      "5\n"
     ]
    }
   ],
   "source": [
    "numeros = [1,2,3,4,5]\n",
    "for numero in numeros:\n",
    "    print(numero)"
   ]
  },
  {
   "cell_type": "markdown",
   "id": "d8fa536a",
   "metadata": {},
   "source": [
    "## Loop/ciclo \"while\""
   ]
  },
  {
   "cell_type": "code",
   "execution_count": 2,
   "id": "d82aa01d",
   "metadata": {},
   "outputs": [
    {
     "name": "stdout",
     "output_type": "stream",
     "text": [
      "5\n",
      "4\n",
      "3\n",
      "2\n",
      "1\n"
     ]
    }
   ],
   "source": [
    "contador = 5\n",
    "while contador > 0:\n",
    "    print(contador)\n",
    "    contador = contador - 1"
   ]
  },
  {
   "cell_type": "markdown",
   "id": "e2c81e62",
   "metadata": {},
   "source": [
    "## Pruebas lógicas con \"if\""
   ]
  },
  {
   "cell_type": "code",
   "execution_count": 3,
   "id": "33ee8f06",
   "metadata": {},
   "outputs": [
    {
     "name": "stdout",
     "output_type": "stream",
     "text": [
      "No es el mejor lenguaje del mundo\n"
     ]
    }
   ],
   "source": [
    "lenguaje = \"Cobol\"\n",
    "if lenguaje != \"Python\":\n",
    "    print(\"No es el mejor lenguaje del mundo\")"
   ]
  },
  {
   "cell_type": "markdown",
   "id": "97a2b98b",
   "metadata": {},
   "source": [
    "## Loop infinito"
   ]
  },
  {
   "cell_type": "code",
   "execution_count": 4,
   "id": "11b63126",
   "metadata": {},
   "outputs": [
    {
     "name": "stdout",
     "output_type": "stream",
     "text": [
      "corina\n",
      "rosi\n",
      "maythor\n",
      "parar\n"
     ]
    }
   ],
   "source": [
    "while True:\n",
    "    mensaje = input(\"Diga algo: \")\n",
    "    print(mensaje)\n",
    "\n",
    "    if mensaje == \"parar\":\n",
    "        break"
   ]
  }
 ],
 "metadata": {
  "kernelspec": {
   "display_name": ".venv",
   "language": "python",
   "name": "python3"
  },
  "language_info": {
   "codemirror_mode": {
    "name": "ipython",
    "version": 3
   },
   "file_extension": ".py",
   "mimetype": "text/x-python",
   "name": "python",
   "nbconvert_exporter": "python",
   "pygments_lexer": "ipython3",
   "version": "3.11.0"
  }
 },
 "nbformat": 4,
 "nbformat_minor": 5
}
